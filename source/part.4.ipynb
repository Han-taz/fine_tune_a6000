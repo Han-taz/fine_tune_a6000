{
 "cells": [
  {
   "cell_type": "markdown",
   "metadata": {},
   "source": [
    "# Langfuse"
   ]
  },
  {
   "cell_type": "code",
   "execution_count": 9,
   "metadata": {},
   "outputs": [],
   "source": [
    "from langfuse import Langfuse\n",
    "from dotenv import load_dotenv\n",
    "import os\n",
    "from langfuse.callback import CallbackHandler\n",
    "\n",
    "load_dotenv(\"/home/kevin/projects/langgraph/.env\")\n",
    "langfuse = Langfuse(\n",
    "    public_key=os.getenv(\"LANGFUSE_PUBLIC_KEY\"),\n",
    "    secret_key=os.getenv(\"LANGFUSE_SECRET_KEY\"),\n",
    ")\n",
    " \n",
    "langfuse_handler = CallbackHandler()"
   ]
  },
  {
   "cell_type": "code",
   "execution_count": 24,
   "metadata": {},
   "outputs": [
    {
     "data": {
      "text/plain": [
       "True"
      ]
     },
     "execution_count": 24,
     "metadata": {},
     "output_type": "execute_result"
    }
   ],
   "source": [
    "# Tests the SDK connection with the server\n",
    "langfuse_handler.auth_check()"
   ]
  },
  {
   "cell_type": "markdown",
   "metadata": {},
   "source": [
    "# Langgraph\n"
   ]
  },
  {
   "cell_type": "markdown",
   "metadata": {},
   "source": [
    "## TypedDict와 Dict의 차이점 예시"
   ]
  },
  {
   "cell_type": "code",
   "execution_count": 1,
   "metadata": {},
   "outputs": [],
   "source": [
    "# TypedDict와 Dict의 차이점 예시\n",
    "from typing import Dict, TypedDict\n",
    "\n",
    "# 일반적인 파이썬 딕셔너리(dict) 사용\n",
    "sample_dict: Dict[str, str] = {\n",
    "    \"name\": \"테디\",\n",
    "    \"age\": \"30\",  # 문자열로 저장 (dict 에서는 가능)\n",
    "    \"job\": \"개발자\",\n",
    "}\n",
    "\n",
    "\n",
    "# TypedDict 사용\n",
    "class Person(TypedDict):\n",
    "    name: str\n",
    "    age: int  # 정수형으로 명시\n",
    "    job: str\n",
    "\n",
    "\n",
    "typed_dict: Person = {\"name\": \"셜리\", \"age\": 25, \"job\": \"디자이너\"}"
   ]
  },
  {
   "cell_type": "code",
   "execution_count": 2,
   "metadata": {},
   "outputs": [],
   "source": [
    "# dict의 경우\n",
    "sample_dict[\"age\"] = 35  # 문자열에서 정수로 변경되어도 오류 없음\n",
    "sample_dict[\"new_field\"] = \"추가 정보\"  # 새로운 필드 추가 가능\n",
    "\n",
    "# TypedDict의 경우\n",
    "typed_dict[\"age\"] = 35  # 정수형으로 올바르게 사용\n",
    "typed_dict[\"age\"] = \"35\"  # 타입 체커가 오류를 감지함\n",
    "typed_dict[\"new_field\"] = (\n",
    "    \"추가 정보\"  # 타입 체커가 정의되지 않은 키라고 오류를 발생시킴\n",
    ")"
   ]
  },
  {
   "cell_type": "code",
   "execution_count": 3,
   "metadata": {},
   "outputs": [],
   "source": [
    "from typing import Annotated\n",
    "\n",
    "name: Annotated[str, \"사용자 이름\"]\n",
    "age: Annotated[int, \"사용자 나이 (0-150)\"]"
   ]
  },
  {
   "cell_type": "code",
   "execution_count": 7,
   "metadata": {},
   "outputs": [
    {
     "name": "stdout",
     "output_type": "stream",
     "text": [
      "유효한 직원 데이터: id=1 name='테디노트' age=30 salary=1000.0 skills=['Python', 'LangChain']\n",
      "유효성 검사 오류:\n",
      "- id: Field required\n",
      "- name: String should have at least 3 characters\n",
      "- age: Input should be greater than 18\n",
      "- salary: Input should be less than 10000\n",
      "- skills: Input should be a valid list\n"
     ]
    }
   ],
   "source": [
    "from typing import Annotated, List\n",
    "from pydantic import Field, BaseModel, ValidationError\n",
    "\n",
    "\n",
    "class Employee(BaseModel):\n",
    "    id: Annotated[int, Field(..., description=\"직원 ID\")]\n",
    "    name: Annotated[str, Field(..., min_length=3, max_length=50, description=\"이름\")]\n",
    "    age: Annotated[int, Field(gt=18, lt=65, description=\"나이 (19-64세)\")]\n",
    "    salary: Annotated[\n",
    "        float, Field(gt=0, lt=10000, description=\"연봉 (단위: 만원, 최대 10억)\")\n",
    "    ]\n",
    "    skills: Annotated[\n",
    "        List[str], Field(min_items=1, max_items=10, description=\"보유 기술 (1-10개)\")\n",
    "    ]\n",
    "\n",
    "\n",
    "# 유효한 데이터로 인스턴스 생성\n",
    "try:\n",
    "    valid_employee = Employee(\n",
    "        id=1, name=\"테디노트\", age=30, salary=1000, skills=[\"Python\", \"LangChain\"]\n",
    "    )\n",
    "    print(\"유효한 직원 데이터:\", valid_employee)\n",
    "except ValidationError as e:\n",
    "    print(\"유효성 검사 오류:\", e)\n",
    "\n",
    "# 유효하지 않은 데이터로 인스턴스 생성 시도\n",
    "try:\n",
    "    invalid_employee = Employee(\n",
    "        name=\"상현\",  # 이름이 너무 짧음\n",
    "        age=17,  # 나이가 범위를 벗어남\n",
    "        salary=20000,  # 급여가 범위를 벗어남\n",
    "        skills=\"Python\",  # 리스트가 아님\n",
    "    )\n",
    "except ValidationError as e:\n",
    "    print(\"유효성 검사 오류:\")\n",
    "    for error in e.errors():\n",
    "        print(f\"- {error['loc'][0]}: {error['msg']}\")"
   ]
  },
  {
   "cell_type": "markdown",
   "metadata": {},
   "source": [
    "## Reducer 예시\n",
    "-add_messages\n",
    "`messages` 키는 [`add_messages`](https://langchain-ai.github.io/langgraph/reference/graphs/?h=add+messages#add_messages) 리듀서 함수로 주석이 달려 있으며, 이는 LangGraph에게 기존 목록에 새 메시지를 추가하도록 지시합니다. \n",
    "\n",
    "주석이 없는 상태 키는 각 업데이트에 의해 덮어쓰여져 가장 최근의 값이 저장됩니다. \n",
    "\n",
    "`add_messages` 함수는 2개의 인자(left, right)를 받으며 좌, 우 메시지를 병합하는 방식으로 동작합니다."
   ]
  },
  {
   "cell_type": "code",
   "execution_count": 1,
   "metadata": {},
   "outputs": [],
   "source": [
    "from typing import Annotated, TypedDict\n",
    "from langgraph.graph.message import add_messages"
   ]
  },
  {
   "cell_type": "code",
   "execution_count": 2,
   "metadata": {},
   "outputs": [],
   "source": [
    "class GraphState(TypedDict):\n",
    "    question: Annotated[list[str], add_messages]\n",
    "    context: Annotated[str, \"Context\"]\n",
    "    answer: Annotated[str, \"Answer\"]\n",
    "    messages: Annotated[list[str], add_messages]\n",
    "    relevance: Annotated[str, \"Relevance\"]"
   ]
  },
  {
   "cell_type": "code",
   "execution_count": 7,
   "metadata": {},
   "outputs": [],
   "source": [
    "state: GraphState = {\n",
    "    \"question\": [\"반가워요\"],\n",
    "    \"context\": \"\",\n",
    "    \"answer\": \"\",\n",
    "    \"messages\": [],\n",
    "    \"relevance\": \"\"\n",
    "}"
   ]
  },
  {
   "cell_type": "code",
   "execution_count": 9,
   "metadata": {},
   "outputs": [
    {
     "data": {
      "text/plain": [
       "['반가워요']"
      ]
     },
     "execution_count": 9,
     "metadata": {},
     "output_type": "execute_result"
    }
   ],
   "source": [
    "state['question']"
   ]
  },
  {
   "cell_type": "code",
   "execution_count": 8,
   "metadata": {},
   "outputs": [
    {
     "name": "stdout",
     "output_type": "stream",
     "text": [
      "[HumanMessage(content='안녕하세요?', additional_kwargs={}, response_metadata={}, id='1'), AIMessage(content='반갑습니다~', additional_kwargs={}, response_metadata={}, id='2')]\n"
     ]
    }
   ],
   "source": [
    "from langchain_core.messages import AIMessage, HumanMessage\n",
    "from langgraph.graph import add_messages\n",
    "\n",
    "# 기본 사용 예시\n",
    "msgs1 = [HumanMessage(content=\"안녕하세요?\", id=\"1\")]\n",
    "msgs2 = [AIMessage(content=\"반갑습니다~\", id=\"2\")]\n",
    "\n",
    "result1 = add_messages(msgs1, msgs2)\n",
    "print(result1)"
   ]
  },
  {
   "cell_type": "code",
   "execution_count": 9,
   "metadata": {},
   "outputs": [
    {
     "name": "stdout",
     "output_type": "stream",
     "text": [
      "[HumanMessage(content='반갑습니다~', additional_kwargs={}, response_metadata={}, id='1')]\n"
     ]
    }
   ],
   "source": [
    "# 동일한 ID를 가진 메시지 대체 예시\n",
    "msgs1 = [HumanMessage(content=\"안녕하세요?\", id=\"1\")]\n",
    "msgs2 = [HumanMessage(content=\"반갑습니다~\", id=\"1\")]\n",
    "\n",
    "result2 = add_messages(msgs1, msgs2)\n",
    "print(result2)"
   ]
  },
  {
   "cell_type": "markdown",
   "metadata": {},
   "source": [
    "## 간단한 챗봇"
   ]
  },
  {
   "cell_type": "code",
   "execution_count": 10,
   "metadata": {},
   "outputs": [],
   "source": [
    "from typing import Annotated, TypedDict\n",
    "from langgraph.graph import StateGraph, START, END\n",
    "from langgraph.graph.message import add_messages\n",
    "\n",
    "class GraphState(TypedDict):\n",
    "    messages: Annotated[list[str], add_messages]"
   ]
  },
  {
   "cell_type": "code",
   "execution_count": 11,
   "metadata": {},
   "outputs": [],
   "source": [
    "from langchain_openai import ChatOpenAI\n",
    "\n",
    "llm = ChatOpenAI(model=\"gpt-4o-mini\")\n",
    "\n",
    "def chatbot(state: GraphState) -> GraphState:\n",
    "    return {\"messages\": [llm.invoke(state[\"messages\"])]}"
   ]
  },
  {
   "cell_type": "code",
   "execution_count": 13,
   "metadata": {},
   "outputs": [
    {
     "data": {
      "text/plain": [
       "<langgraph.graph.state.StateGraph at 0x7f372c48ee90>"
      ]
     },
     "execution_count": 13,
     "metadata": {},
     "output_type": "execute_result"
    }
   ],
   "source": [
    "graph_builder = StateGraph(GraphState)\n",
    "graph_builder.add_node(\"chatbot\", chatbot)"
   ]
  },
  {
   "cell_type": "code",
   "execution_count": 16,
   "metadata": {},
   "outputs": [
    {
     "data": {
      "text/plain": [
       "<langgraph.graph.state.StateGraph at 0x7f372c48ee90>"
      ]
     },
     "execution_count": 16,
     "metadata": {},
     "output_type": "execute_result"
    }
   ],
   "source": [
    "graph_builder.add_edge(START, \"chatbot\")\n",
    "graph_builder.add_edge(\"chatbot\", END)"
   ]
  },
  {
   "cell_type": "code",
   "execution_count": 17,
   "metadata": {},
   "outputs": [],
   "source": [
    "graph = graph_builder.compile()"
   ]
  },
  {
   "cell_type": "code",
   "execution_count": 18,
   "metadata": {},
   "outputs": [
    {
     "name": "stdout",
     "output_type": "stream",
     "text": [
      "Assistant: 서울에는 맛있는 음식점이 정말 많습니다! 다음은 서울에서 유명한 맛집 TOP 10을 추천해 드립니다.\n",
      "\n",
      "1. **광화문 미진** - 전통적인 비빔밥과 한정식으로 유명한 곳입니다. 깔끔한 분위기에서 다양한 한식을 즐길 수 있습니다.\n",
      "\n",
      "2. **남산돈까스** - 바삭한 돈까스와 풍부한 소스를 자랑하는 곳으로, 많은 사람들에게 사랑받는 맛집입니다.\n",
      "\n",
      "3. **신사동 가로수길의 이태원 클라쓰** - 다양한 한국식 치킨과 맥주를 즐길 수 있는 인기 있는 치킨집입니다.\n",
      "\n",
      "4. **골목식당** - 다양한 길거리 음식을 맛볼 수 있는 곳으로, 특히 떡볶이와 순대가 유명합니다.\n",
      "\n",
      "5. **서래마을의 파리바게뜨** - 다양한 베이커리와 디저트를 제공하는 곳으로, 프랑스식 빵과 케이크가 인기입니다.\n",
      "\n",
      "6. **을지로의 유림** - 전통적인 한우를 사용한 고기집으로, 질 좋은 고기를 즐길 수 있는 곳입니다.\n",
      "\n",
      "7. **청담동의 스시효** - 신선한 재료를 사용한 일식 스시 전문점으로, 미쉐린 스타를 받은 곳입니다.\n",
      "\n",
      "8. **마포의 홍대 돈부리** - 일본식 덮밥 요리로 유명한 곳으로, 다양한 메뉴가 제공됩니다.\n",
      "\n",
      "9. **종로의 명동교자** - 칼국수와 만두로 유명한 곳으로, 특히 칼국수가 인기입니다.\n",
      "\n",
      "10. **강남의 배틀트립** - 다양한 한국 요리를 한자리에서 즐길 수 있는 뷔페식당으로, 다양한 메뉴가 준비되어 있습니다.\n",
      "\n",
      "각 맛집마다 독특한 매력이 있으니, 방문하실 때 참고하시면 좋을 것 같습니다!\n"
     ]
    }
   ],
   "source": [
    "question = \"서울의 유명한 맛집 TOP 10 추천해줘\"\n",
    "\n",
    "# 그래프 이벤트 스트리밍\n",
    "for event in graph.stream({\"messages\": [(\"user\", question)]}):\n",
    "    # 이벤트 값 출력\n",
    "    for value in event.values():\n",
    "        print(\"Assistant:\", value[\"messages\"][-1].content)"
   ]
  },
  {
   "cell_type": "code",
   "execution_count": 30,
   "metadata": {},
   "outputs": [
    {
     "name": "stdout",
     "output_type": "stream",
     "text": [
      "{'chatbot': {'messages': [AIMessage(content='서울에는 다양한 맛집이 많이 있습니다. 아래는 서울에서 유명한 맛집 TOP 10을 추천해 드립니다. 각 음식 종류에 따라 다르게 선정해보았습니다.\\n\\n1. **부암동 미술관** - 한정식: 전통 한정식을 현대적으로 재해석한 곳으로, 아름다운 경치와 함께 정갈한 한식을 즐길 수 있습니다.\\n\\n2. **마포 갈매기** - 갈매기살: 마포구에 위치한 이곳은 신선한 갈매기살과 다양한 반찬이 인기입니다.\\n\\n3. **광화문 미진** - 설렁탕: 깊고 진한 국물 맛이 일품인 설렁탕 전문점으로, 많은 사람들이 찾는 곳입니다.\\n\\n4. **이태원 앤드류스** - 브런치: 다양한 브런치 메뉴와 아늑한 분위기로 유명한 카페입니다.\\n\\n5. **종로 통인시장** - 전통 간식: 다양한 전통 먹거리를 경험할 수 있는 시장으로, 특히 찹쌀떡과 호떡이 유명합니다.\\n\\n6. **삼청동 수연산방** - 전통찻집: 고즈넉한 분위기에서 전통 차와 함께 다과를 즐길 수 있는 곳입니다.\\n\\n7. **홍대 명랑핫도그** - 핫도그: 독특한 종류의 핫도그와 다양한 소스를 제공하는 인기 있는 길거리 음식점입니다.\\n\\n8. **신사동 가로수길** - 디저트 카페: 다양한 디저트를 즐길 수 있는 카페들이 밀집해 있어, 특히 케이크와 마카롱이 유명합니다.\\n\\n9. **여의도 이화수전통육개장** - 육개장: 진한 국물과 푸짐한 고기가 매력적인 육개장 전문점입니다.\\n\\n10. **강남 뚝배기집** - 비빔밥: 다양한 재료로 만든 비빔밥이 인기이며, 건강한 한 끼를 원하시는 분들께 추천합니다.\\n\\n각 맛집은 지역에 따라 다르니 방문하시기 전에 위치와 운영 시간을 확인하시는 것이 좋습니다!', additional_kwargs={'refusal': None}, response_metadata={'token_usage': {'completion_tokens': 484, 'prompt_tokens': 19, 'total_tokens': 503, 'completion_tokens_details': {'audio_tokens': 0, 'reasoning_tokens': 0, 'accepted_prediction_tokens': 0, 'rejected_prediction_tokens': 0}, 'prompt_tokens_details': {'audio_tokens': 0, 'cached_tokens': 0}}, 'model_name': 'gpt-4o-mini-2024-07-18', 'system_fingerprint': 'fp_0705bf87c0', 'finish_reason': 'stop', 'logprobs': None}, id='run-b795375e-2761-4d44-b1ec-9ef6478fa0b2-0', usage_metadata={'input_tokens': 19, 'output_tokens': 484, 'total_tokens': 503, 'input_token_details': {'audio': 0, 'cache_read': 0}, 'output_token_details': {'audio': 0, 'reasoning': 0}})]}}\n"
     ]
    }
   ],
   "source": [
    "for event in graph.stream({\"messages\": [(\"user\", question)]}, config={\"callbacks\":[langfuse_handler]}):\n",
    "    print(event)"
   ]
  }
 ],
 "metadata": {
  "kernelspec": {
   "display_name": "langraph-sh-7RBv65Xj-py3.10",
   "language": "python",
   "name": "python3"
  },
  "language_info": {
   "codemirror_mode": {
    "name": "ipython",
    "version": 3
   },
   "file_extension": ".py",
   "mimetype": "text/x-python",
   "name": "python",
   "nbconvert_exporter": "python",
   "pygments_lexer": "ipython3",
   "version": "3.10.12"
  }
 },
 "nbformat": 4,
 "nbformat_minor": 2
}
