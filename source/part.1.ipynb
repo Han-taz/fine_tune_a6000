{
 "cells": [
  {
   "cell_type": "markdown",
   "metadata": {},
   "source": [
    "# 라이브러리 설치하기"
   ]
  },
  {
   "cell_type": "code",
   "execution_count": null,
   "metadata": {},
   "outputs": [],
   "source": [
    "# !pip install langgraph langsmith langchain_openai tavily-python langchain_community"
   ]
  },
  {
   "cell_type": "markdown",
   "metadata": {},
   "source": [
    "# 라이브러리 import\n"
   ]
  },
  {
   "cell_type": "code",
   "execution_count": 24,
   "metadata": {},
   "outputs": [
    {
     "data": {
      "text/plain": [
       "True"
      ]
     },
     "execution_count": 24,
     "metadata": {},
     "output_type": "execute_result"
    }
   ],
   "source": [
    "from typing import Annotated\n",
    "\n",
    "from typing_extensions import TypedDict\n",
    "\n",
    "from langgraph.graph import StateGraph, START, END\n",
    "from langgraph.graph.message import add_messages\n",
    "from dotenv import load_dotenv\n",
    "\n",
    "load_dotenv(\"/home/kevin/projects/langgraph/.env\")\n"
   ]
  },
  {
   "cell_type": "markdown",
   "metadata": {},
   "source": [
    "# 가장 기본적인 챗봇 구현하기"
   ]
  },
  {
   "cell_type": "code",
   "execution_count": 54,
   "metadata": {},
   "outputs": [],
   "source": [
    "class State(TypedDict):\n",
    "    \"\"\"\n",
    "    메시지는 \"list\" 타입을 가집니다. `add_messages` 함수는 이 상태 키가 어떻게 업데이트되어야 하는지 정의합니다\n",
    "    (이 경우, 메시지를 덮어쓰는 대신 리스트에 추가합니다)\n",
    "    이는 State Dictionary(==Map)가 'messages'라는 키를 가지며, 그 값은 리스트 타입이고 add_messages 함수로 관리된다는 것을 명시적으로 나타냅니다.\n",
    "    # Annotated에 대한 설명:\n",
    "    # Annotated는 타입에 추가 메타데이터를 붙이는 데 사용됩니다.\n",
    "    # 여기서는 'messages'가 리스트 타입이며, add_messages 함수를 통해 관리된다는 것을 나타냅니다.\n",
    "    # 이는 새 메시지를 추가할 때 기존 리스트를 덮어쓰지 않고 추가한다는 의미입니다.\n",
    "    # Annotated를 사용함으로써 타입 정보와 함께 추가적인 동작을 명시적으로 정의할 수 있습니다.\n",
    "    \"\"\"\n",
    "    messages: Annotated[list, add_messages]\n",
    "    \n",
    "    \n",
    "\n",
    "graph_builder = StateGraph(State)\n"
   ]
  },
  {
   "cell_type": "markdown",
   "metadata": {},
   "source": [
    "## LLM을 어떻게 호출하는지 먼저 확인해보기"
   ]
  },
  {
   "cell_type": "code",
   "execution_count": 55,
   "metadata": {},
   "outputs": [
    {
     "name": "stdout",
     "output_type": "stream",
     "text": [
      "[('user', '안녕하세요 내 이름은 상현이야')]\n"
     ]
    }
   ],
   "source": [
    "state = State()\n",
    "\n",
    "# 'messages' 키에 값 할당\n",
    "state['messages'] = [(\"user\", \"안녕하세요 내 이름은 상현이야\")]\n",
    "\n",
    "# 'messages' 키의 값 접근\n",
    "messages = state['messages']\n",
    "\n",
    "print(messages)"
   ]
  },
  {
   "cell_type": "code",
   "execution_count": 40,
   "metadata": {},
   "outputs": [],
   "source": [
    "from langchain_openai import ChatOpenAI\n",
    "# LLM 모델 설정\n",
    "llm = ChatOpenAI(model=\"gpt-4o-mini\", temperature=0)\n",
    "\n",
    "# 챗봇 함수 정의\n",
    "def chatbot(state: State):\n",
    "    return {\"messages\": [llm.invoke(state[\"messages\"])]}"
   ]
  },
  {
   "cell_type": "code",
   "execution_count": 38,
   "metadata": {},
   "outputs": [
    {
     "data": {
      "text/plain": [
       "AIMessage(content='안녕하세요, 상현님! 만나서 반갑습니다. 어떻게 도와드릴까요?', additional_kwargs={'refusal': None}, response_metadata={'token_usage': {'completion_tokens': 20, 'prompt_tokens': 16, 'total_tokens': 36, 'completion_tokens_details': {'audio_tokens': None, 'reasoning_tokens': 0}, 'prompt_tokens_details': {'audio_tokens': None, 'cached_tokens': 0}}, 'model_name': 'gpt-4o-mini-2024-07-18', 'system_fingerprint': 'fp_e2bde53e6e', 'finish_reason': 'stop', 'logprobs': None}, id='run-ddb5da40-f1bf-4159-8ad8-f5cc992ccbb8-0', usage_metadata={'input_tokens': 16, 'output_tokens': 20, 'total_tokens': 36, 'input_token_details': {'cache_read': 0}, 'output_token_details': {'reasoning': 0}})"
      ]
     },
     "execution_count": 38,
     "metadata": {},
     "output_type": "execute_result"
    }
   ],
   "source": [
    "llm.invoke(state[\"messages\"])"
   ]
  },
  {
   "cell_type": "markdown",
   "metadata": {},
   "source": [
    "# Graph 구현해보기\n",
    "\n",
    "\n",
    "\n",
    "\n",
    "![alt text](../../images/chatbot.PNG)"
   ]
  },
  {
   "cell_type": "markdown",
   "metadata": {},
   "source": [
    "### 노드 추가하기"
   ]
  },
  {
   "cell_type": "code",
   "execution_count": 56,
   "metadata": {},
   "outputs": [
    {
     "data": {
      "text/plain": [
       "<langgraph.graph.state.StateGraph at 0x7f1ca01560e0>"
      ]
     },
     "execution_count": 56,
     "metadata": {},
     "output_type": "execute_result"
    }
   ],
   "source": [
    "#graph_builder = StateGraph(State)\n",
    "graph_builder.add_node(\"chatbot_node\", chatbot)# node명, node에서 사용할 함수"
   ]
  },
  {
   "cell_type": "markdown",
   "metadata": {},
   "source": [
    "### entry point 추가하기"
   ]
  },
  {
   "cell_type": "code",
   "execution_count": 57,
   "metadata": {},
   "outputs": [
    {
     "data": {
      "text/plain": [
       "<langgraph.graph.state.StateGraph at 0x7f1ca01560e0>"
      ]
     },
     "execution_count": 57,
     "metadata": {},
     "output_type": "execute_result"
    }
   ],
   "source": [
    "graph_builder.add_edge(START, \"chatbot_node\")\n"
   ]
  },
  {
   "cell_type": "code",
   "execution_count": 58,
   "metadata": {},
   "outputs": [
    {
     "data": {
      "text/plain": [
       "<langgraph.graph.state.StateGraph at 0x7f1ca01560e0>"
      ]
     },
     "execution_count": 58,
     "metadata": {},
     "output_type": "execute_result"
    }
   ],
   "source": [
    "graph_builder.add_edge(\"chatbot_node\", END)"
   ]
  },
  {
   "cell_type": "markdown",
   "metadata": {},
   "source": [
    "## 그래프 컴파일하기"
   ]
  },
  {
   "cell_type": "code",
   "execution_count": 60,
   "metadata": {},
   "outputs": [
    {
     "data": {
      "text/plain": [
       "<langgraph.graph.state.CompiledStateGraph at 0x7f1ca0156170>"
      ]
     },
     "execution_count": 60,
     "metadata": {},
     "output_type": "execute_result"
    }
   ],
   "source": [
    "graph = graph_builder.compile()\n",
    "graph"
   ]
  },
  {
   "cell_type": "markdown",
   "metadata": {},
   "source": [
    "### 그래프 이미지로 확인하기"
   ]
  },
  {
   "cell_type": "code",
   "execution_count": 63,
   "metadata": {},
   "outputs": [
    {
     "data": {
      "image/jpeg": "[encoded data removed]",
      "text/plain": [
       "<IPython.core.display.Image object>"
      ]
     },
     "metadata": {},
     "output_type": "display_data"
    }
   ],
   "source": [
    "from IPython.display import Image, display\n",
    "\n",
    "try:\n",
    "    display(Image(graph.get_graph().draw_mermaid_png()))\n",
    "except Exception:\n",
    "    pass"
   ]
  },
  {
   "cell_type": "markdown",
   "metadata": {},
   "source": [
    "### 챗봇 실행해보기"
   ]
  },
  {
   "cell_type": "code",
   "execution_count": 64,
   "metadata": {},
   "outputs": [
    {
     "name": "stdout",
     "output_type": "stream",
     "text": [
      "Assistant: 안녕하세요! 어떻게 도와드릴까요?\n",
      "Assistant: 죄송하지만, 실시간 날씨 정보를 제공할 수는 없습니다. 하지만, 내일의 날씨를 확인하려면 기상청 웹사이트나 날씨 앱을 이용해 보시는 것을 추천합니다. 도움이 필요하시면 다른 질문 해주세요!\n",
      "Assistant: Hello! How can I assist you today?\n",
      "Assistant: 안녕하세요! 무엇을 도와드릴까요?\n",
      "Goodbye!\n"
     ]
    }
   ],
   "source": [
    "def stream_graph_updates(user_input: str):\n",
    "    for event in graph.stream({\"messages\": [(\"user\", user_input)]}):\n",
    "        for value in event.values():\n",
    "            print(\"Assistant:\", value[\"messages\"][-1].content)\n",
    "\n",
    "\n",
    "while True:\n",
    "    try:\n",
    "        user_input = input(\"User: \")\n",
    "        if user_input.lower() in [\"quit\", \"exit\", \"q\"]:\n",
    "            print(\"Goodbye!\")\n",
    "            break\n",
    "\n",
    "        stream_graph_updates(user_input)\n",
    "    except:\n",
    "        # fallback if input() is not available\n",
    "        user_input = \"What do you know about LangGraph?\"\n",
    "        print(\"User: \" + user_input)\n",
    "        stream_graph_updates(user_input)\n",
    "        break"
   ]
  },
  {
   "cell_type": "markdown",
   "metadata": {},
   "source": [
    "# 그래프에 TOOL 추가하기"
   ]
  },
  {
   "cell_type": "code",
   "execution_count": 1,
   "metadata": {},
   "outputs": [],
   "source": [
    "from langchain_community.utilities import GoogleSerperAPIWrapper\n",
    "from langchain_community.tools.google_serper import GoogleSerperResults\n",
    "from pprint import pprint"
   ]
  },
  {
   "cell_type": "code",
   "execution_count": 8,
   "metadata": {},
   "outputs": [
    {
     "name": "stdout",
     "output_type": "stream",
     "text": [
      "[{'url': 'https://www.weather.go.kr/weather/home/main.jsp', 'content': '날씨해설. ※ 10월 11일부터 10월 13일까지의 전망입니다. 오늘 오전까지 전국 대부분 지역에 짙은 안개가 끼는 곳이 많겠습니다. 당분간 내륙을 중심으로 아침 기온이 낮아 쌀쌀하겠고, 낮과 밤의 기온차가 크겠습니다. 오늘 (11일) 오전 (10시)까지 전국 대부분 지역 ...'}, {'url': 'https://weather.com/ko-KR/weather/hourbyhour/l/36994b6d164c4043d2ec43cc7d39f5447d3fc0b10bcc175e4593cd4f929976ea', 'content': '15°. 5%. km/h. 10일 날씨. CAT 4. 10월 9일 23:00. Weather.com 및 The Weather Channel이 제공하는 지역의 시간별 일기예보, 날씨 상태, 강수량, 이슬점, 습도, 바람.'}, {'url': 'https://www.accuweather.com/ko/kr/seoul/226081/weather-today/226081', 'content': \"Everything you need to know about today's weather in 서울특별시, 서울시, 대한민국. High/Low, Precipitation Chances, Sunrise/Sunset, and today's Temperature History.\"}]\n"
     ]
    }
   ],
   "source": [
    "from langchain_community.tools.tavily_search import TavilySearchResults\n",
    "\n",
    "tool = TavilySearchResults(max_results=3)\n",
    "tools = [tool]\n",
    "print(tool.invoke(\"내일 서울 날씨 어때?\"))"
   ]
  },
  {
   "cell_type": "code",
   "execution_count": 3,
   "metadata": {},
   "outputs": [
    {
     "name": "stdout",
     "output_type": "stream",
     "text": [
      "(\"{'searchParameters': {'q': '내일 서울 날씨 어때?', 'gl': 'us', 'hl': 'en', 'type': \"\n",
      " \"'search', 'num': 10, 'engine': 'google'}, 'answerBox': {'title': 'Naeil, \"\n",
      " \"Mia-dong, Gangbuk-gu, Seoul, South Korea / Weather', 'answer': '56°F', \"\n",
      " \"'source': 'More on weather.com', 'sourceLink': \"\n",
      " \"'https://www.weather.com/wx/today/?lat=37.63&lon=127.03&locale=en_US&par=google'}, \"\n",
      " \"'organic': [{'title': '서울·인천·경기 – 단기예보 - 기상청 날씨누리', 'link': \"\n",
      " \"'https://www.weather.go.kr/w/weather/forecast/short-term.do?stnId=109', \"\n",
      " \"'snippet': '내일. 15일(화) 최저17℃최고25℃. 시각; 날씨; 기온 (체감); 강수량; 강수 확률; 바람; 습도; 한파 \"\n",
      " \"영향. 시각: 01시; 날씨: 흐림; 기온(체감온도) 18℃(18℃); 체감온도: 18℃ ...', 'position': 1}, \"\n",
      " \"{'title': '서울특별시, 서울시, 대한민국 시간별 날씨 - AccuWeather', 'link': \"\n",
      " \"'https://www.accuweather.com/ko/kr/seoul/226081/hourly-weather-forecast/226081', \"\n",
      " \"'snippet': 'RealFeel Shade™67°. 바람북 6mi/h. 대기질나쁨. 최대 자외선 지수1 낮음. 돌풍10mi/h. \"\n",
      " \"습도84%. 이슬점63° F. 구름량100%. 가시거리7mi. 운저30000ft ...', 'position': 2}, {'title': \"\n",
      " \"'서울 실시간 날씨 정보 | 서울 공식 관광정보 웹사이트', 'link': \"\n",
      " \"'https://korean.visitseoul.net/weather', 'snippet': '대기오염 상세 : 날짜, 미세먼지, \"\n",
      " \"초미세먼지. 날짜, 오늘예보, 내일예보, 모레예보. 미세먼지 (PM10), 미세먼지좋음 좋음, 미세먼지보통 보통, 미세먼지보통 보통.', \"\n",
      " \"'position': 3}, {'title': '서울 ·경기도 중기예보 - 기상청 날씨누리', 'link': \"\n",
      " \"'https://www.weather.go.kr/w/weather/forecast/mid-term.do?stnId1=109', \"\n",
      " \"'snippet': '○ (하늘상태) 20일(일)~23일(수)은 대체로 흐리거나 구름많겠고, 그 밖의 날은 대체로 맑겠습니다. ○ \"\n",
      " \"(기온) 이번 예보기간 아침 기온은 5~15도, 낮 기온은 18~22도로 평년 ...', 'position': 4}, {'title': \"\n",
      " '\\'네이버 날씨 홈\\', \\'link\\': \\'https://weather.naver.com/\\', \\'snippet\\': \"오늘 '\n",
      " \"미세먼지는 어때? 내일 날씨; 지금 전국날씨는? 영상으로 보는 날씨 · 지금 ... [날씨] 내일 '서울 낮 26도' 서쪽 고온…하늘 \"\n",
      " '대체로 맑음 영상 뉴스. [날씨] ...\", \\'sitelinks\\': [{\\'title\\': \\'지도\\', \\'link\\': '\n",
      " \"'https://weather.naver.com/map'}, {'title': '예보비교', 'link': \"\n",
      " \"'https://weather.naver.com/compare'}, {'title': '동네별', 'link': \"\n",
      " \"'https://weather.naver.com/air'}], 'position': 5}, {'title': '단기예보 - 기상청 \"\n",
      " \"날씨누리', 'link': 'https://www.kma.go.kr/w/weather/forecast/short-term.do', \"\n",
      " \"'snippet': '날씨: 구름 많음; 기온(체감온도) 21℃(21℃); 체감온도: 21℃; 강수량: -; 강수확률: 20%; 바람: \"\n",
      " \"북서풍1m/s; 습도: 80%; 한파영향: ... 한파영향: 시각: 20시; 날씨: 흐림 ...', 'position': 6}, \"\n",
      " \"{'title': '전국 날씨 예보 - 케이웨더-날씨와 미세먼지', 'link': \"\n",
      " \"'https://weather.kweather.co.kr/weather/forecast', 'snippet': 'img. 비 후 갬. \"\n",
      " \"최고기온: 22℃. 최저기온: 17℃. 일강수량: 0.9 mm.', 'sitelinks': [{'title': '날씨', 'link': \"\n",
      " \"'https://weather.kweather.co.kr/weather/weather_by_city'}, {'title': '동별 날씨 \"\n",
      " \"정보', 'link': 'https://weather.kweather.co.kr/weather/general_forecast'}, \"\n",
      " \"{'title': '레이더/위성영상', 'link': \"\n",
      " \"'https://weather.kweather.co.kr/weather/radar'}, {'title': '과거날씨', 'link': \"\n",
      " \"'https://weather.kweather.co.kr/weather/legacy_weather'}], 'position': 7}, \"\n",
      " \"{'title': '서울특별시, 서울시, 대한민국 3일 날씨 예보 - AccuWeather', 'link': \"\n",
      " \"'https://www.accuweather.com/ko/kr/seoul/226081/weather-forecast/226081', \"\n",
      " \"'snippet': '일별 예보 ; 오늘. 10. 16. 76° 51° ; 목. 10. 17. 80° 58° ; 금. 10. 18. \"\n",
      " \"69° 54° ; 토. 10. 19. 68° 47° ; 일. 10. 20. 66° 51°.', 'attributes': \"\n",
      " \"{'Missing': '어때? | Show results with:어때?'}, 'sitelinks': [{'title': '시간별', \"\n",
      " \"'link': \"\n",
      " \"'https://www.accuweather.com/ko/kr/seoul/226081/hourly-weather-forecast/226081'}, \"\n",
      " \"{'title': '일별', 'link': \"\n",
      " \"'https://www.accuweather.com/ko/kr/seoul/226081/daily-weather-forecast/226081'}, \"\n",
      " \"{'title': '레이더', 'link': \"\n",
      " \"'https://www.accuweather.com/ko/kr/seoul/226081/weather-radar/226081'}, \"\n",
      " \"{'title': '현재 기상', 'link': \"\n",
      " \"'https://www.accuweather.com/ko/kr/seoul/226081/current-weather/226081'}], \"\n",
      " \"'position': 8}, {'title': '다음날씨 | 동네날씨', 'link': \"\n",
      " '\\'https://weather.daum.net/\\', \\'snippet\\': \"[오늘‧내일‧주간날씨] 오늘 오후 구름 많고 내일 오후 '\n",
      " '수도권 남쪽 비 bnt뉴스 3일 전 · 가을 나들이 차량에 일요일 고속도로 \\'혼잡\\'…서울→부산 4시간30분 뉴스1 3일 전.\", '\n",
      " \"'sitelinks': [{'title': '전국', 'link': 'https://weather.daum.net/nation'}, \"\n",
      " \"{'title': '기상특보', 'link': 'https://weather.daum.net/specialreport'}, \"\n",
      " \"{'title': '영상', 'link': 'https://weather.daum.net/video'}], 'position': 9}, \"\n",
      " \"{'title': '날씨 목록 - YTN', 'link': \"\n",
      " \"'https://www.ytn.co.kr/weather/list_weather.php', 'snippet': '[날씨] 맑고 일교차 큰 \"\n",
      " '가을 날씨...내일 서울 낮 26℃ · [날씨] 맑지만 큰 일교차 큰 가을 날씨...내일 서울 26℃. [앵커] 하늘은 맑지만 일교차가 '\n",
      " \"점점 ...', 'date': '7 hours ago', 'position': 10}], 'peopleAlsoAsk': \"\n",
      " \"[{'question': '비 올 확률은 몇 프로야?', 'snippet': '강수량: - 강수확률: 30% 바람: 남풍2m/s. 습도: \"\n",
      " \"75%', 'title': '서울·인천·경기 – 단기예보 - 기상청 날씨누리', 'link': \"\n",
      " \"'https://www.weather.go.kr/w/weather/forecast/short-term.do?stnId=109'}, \"\n",
      " \"{'question': '오늘 강수량이 얼마나 되나요?', 'snippet': '기온(체감온도) 15℃(15℃) 체감온도: 15℃ \"\n",
      " \"강수량: - 강수확률: 0%', 'title': '수도권기상청', 'link': \"\n",
      " \"'https://www.kma.go.kr/metropolitan/'}, {'question': '오늘 서울 날씨 몇 도입니까?', \"\n",
      " \"'snippet': '아침 기온은 6~13도, 낮 기온은 18~20도가 되겠습니다.', 'title': '서울 ·경기도 중기예보 - \"\n",
      " \"기상청 날씨누리', 'link': \"\n",
      " \"'https://www.weather.go.kr/w/weather/forecast/mid-term.do?stnId1=109'}, \"\n",
      " '{\\'question\\': \\'강설량이란 무엇입니까?\\', \\'snippet\\': \"한편 눈, 싸락눈, 우박 등과 같은 고체성 강수는 '\n",
      " \"내린 눈을 녹인 물의 양으로 측정하며 그것을 '강설량(降雪量)'이라고도 표현한다. 즉, '강우량(降雨量)'은 비의 양, '적설량'은 쌓인 \"\n",
      " '눈의 양, \\'강수량(降水量)\\'은 비나 눈 등 하늘에서 내린 물의 양 모두를 가리킬 때 쓰는 용어다.\", \\'title\\': \\'새해 '\n",
      " \"폭설 또 폭설…“눈에 대해 얼마나 아시나요” - onkweather', 'link': \"\n",
      " \"'http://www.onkweather.com/mobile/bbs_view.html?bo_table=weatherToday&wr_id=371'}], \"\n",
      " \"'relatedSearches': [{'query': '이번주 서울 날씨'}, {'query': '오늘서울날씨시간별'}, \"\n",
      " \"{'query': '다음주 서울 날씨'}, {'query': '서울 한달 날씨'}, {'query': '내일 서울 날씨 시간대별'}, \"\n",
      " \"{'query': '내일 전국날씨'}, {'query': '오늘 전국날씨'}, {'query': '서울특별시 10일 치 날씨'}], \"\n",
      " \"'credits': 1}\")\n"
     ]
    }
   ],
   "source": [
    "tool = GoogleSerperResults(\n",
    "        k=5,\n",
    "        gl= \"kr\",  # 지역을 한국으로 설정\n",
    "        hl= \"ko\"   # 언어를 한글로 설정\n",
    "    )\n",
    "\n",
    "tools = [tool]\n",
    "\n",
    "pprint(tool.invoke(\"내일 서울 날씨 어때?\"))"
   ]
  },
  {
   "cell_type": "code",
   "execution_count": 4,
   "metadata": {},
   "outputs": [
    {
     "data": {
      "text/plain": [
       "<langgraph.graph.state.StateGraph at 0x7f0b8032beb0>"
      ]
     },
     "execution_count": 4,
     "metadata": {},
     "output_type": "execute_result"
    }
   ],
   "source": [
    "from typing import Annotated\n",
    "\n",
    "from typing_extensions import TypedDict\n",
    "from langchain_openai import ChatOpenAI\n",
    "from langgraph.graph import StateGraph, START, END\n",
    "from langgraph.graph.message import add_messages\n",
    "\n",
    "\n",
    "class State(TypedDict):\n",
    "    messages: Annotated[list, add_messages]\n",
    "\n",
    "\n",
    "graph_builder = StateGraph(State)\n",
    "\n",
    "\n",
    "llm = ChatOpenAI(model=\"gpt-4o-mini\", temperature=0)\n",
    "# 모델에 TOOL 추가하기\n",
    "llm_with_tools = llm.bind_tools(tools)\n",
    "\n",
    "\n",
    "def chatbot(state: State):\n",
    "    return {\"messages\": [llm_with_tools.invoke(state[\"messages\"])]}\n",
    "\n",
    "\n",
    "graph_builder.add_node(\"chatbot\", chatbot)"
   ]
  },
  {
   "cell_type": "code",
   "execution_count": 4,
   "metadata": {},
   "outputs": [
    {
     "data": {
      "text/plain": [
       "AIMessage(content='죄송하지만, 실시간 날씨 정보를 제공할 수는 없습니다. 하지만, 내일의 날씨를 확인하려면 기상청 웹사이트나 날씨 앱을 이용해 보시는 것을 추천합니다. 도움이 필요하시면 다른 질문 해주세요!', additional_kwargs={'refusal': None}, response_metadata={'token_usage': {'completion_tokens': 53, 'prompt_tokens': 14, 'total_tokens': 67, 'completion_tokens_details': {'audio_tokens': None, 'reasoning_tokens': 0}, 'prompt_tokens_details': {'audio_tokens': None, 'cached_tokens': 0}}, 'model_name': 'gpt-4o-mini-2024-07-18', 'system_fingerprint': 'fp_e2bde53e6e', 'finish_reason': 'stop', 'logprobs': None}, id='run-cef68665-1727-450c-b937-b59695fa8556-0', usage_metadata={'input_tokens': 14, 'output_tokens': 53, 'total_tokens': 67, 'input_token_details': {'cache_read': 0}, 'output_token_details': {'reasoning': 0}})"
      ]
     },
     "execution_count": 4,
     "metadata": {},
     "output_type": "execute_result"
    }
   ],
   "source": [
    "llm.invoke(\"내일 날씨 검색해줘\")"
   ]
  },
  {
   "cell_type": "code",
   "execution_count": 5,
   "metadata": {},
   "outputs": [
    {
     "name": "stdout",
     "output_type": "stream",
     "text": [
      "AIMessage(content='', additional_kwargs={'tool_calls': [{'id': 'call_OA7NNjmeFLv31kaetWkXjRyO', 'function': {'arguments': '{\"query\":\"내일 날씨\"}', 'name': 'google_serper_results_json'}, 'type': 'function'}], 'refusal': None}, response_metadata={'token_usage': {'completion_tokens': 20, 'prompt_tokens': 82, 'total_tokens': 102, 'completion_tokens_details': {'audio_tokens': None, 'reasoning_tokens': 0}, 'prompt_tokens_details': {'audio_tokens': None, 'cached_tokens': 0}}, 'model_name': 'gpt-4o-mini-2024-07-18', 'system_fingerprint': 'fp_e2bde53e6e', 'finish_reason': 'tool_calls', 'logprobs': None}, id='run-7fcf99bd-9e2e-46d9-9690-1deae18878de-0', tool_calls=[{'name': 'google_serper_results_json', 'args': {'query': '내일 날씨'}, 'id': 'call_OA7NNjmeFLv31kaetWkXjRyO', 'type': 'tool_call'}], usage_metadata={'input_tokens': 82, 'output_tokens': 20, 'total_tokens': 102, 'input_token_details': {'cache_read': 0}, 'output_token_details': {'reasoning': 0}})\n"
     ]
    }
   ],
   "source": [
    "answer = llm_with_tools.invoke(\"내일 날씨 검색해줘\")\n",
    "pprint(answer)"
   ]
  },
  {
   "cell_type": "code",
   "execution_count": 6,
   "metadata": {},
   "outputs": [
    {
     "data": {
      "text/plain": [
       "'AIMessage(content=\\'\\', \\nadditional_kwargs={\\'tool_calls\\': [{\\'id\\': \\'call_vOY3viMhJlfm8W15tPPgfA8a\\', \\n\\'function\\': {\\'arguments\\': \\'{\"query\":\"내일 날씨\"}\\', \\'name\\': \\'google_serper_results_json\\'}, \\n\\'type\\': \\'function\\'}], \\'refusal\\': None}, \\nresponse_metadata={\\'token_usage\\': {\\'completion_tokens\\': 20, \\'prompt_tokens\\': 82, \\'total_tokens\\': 102, \\n\\'completion_tokens_details\\': {\\'audio_tokens\\': None, \\'reasoning_tokens\\': 0}, \\n\\'prompt_tokens_details\\': {\\'audio_tokens\\': None, \\'cached_tokens\\': 0}}, \\'model_name\\': \\n\\'gpt-4o-mini-2024-07-18\\', \\n\\'system_fingerprint\\': \\'fp_e2bde53e6e\\', \\n\\'finish_reason\\': \\'tool_calls\\', \\n\\'logprobs\\': None}, \\nid=\\'run-816efb48-a751-4d0f-b946-5fee1d64df40-0\\', \\ntool_calls=[{\\'name\\': \\'google_serper_results_json\\',\\n\\'args\\': {\\'query\\': \\'내일 날씨\\'}, \\n\\'id\\': \\'call_vOY3viMhJlfm8W15tPPgfA8a\\', \\n\\'type\\': \\'tool_call\\'}], \\nusage_metadata={\\'input_tokens\\': 82, \\'output_tokens\\': 20, \\'total_tokens\\': 102, \\n\\'input_token_details\\': {\\'cache_read\\': 0}, \\n\\'output_token_details\\': {\\'reasoning\\': 0}})'"
      ]
     },
     "execution_count": 6,
     "metadata": {},
     "output_type": "execute_result"
    }
   ],
   "source": [
    "\"\"\"AIMessage(content='', \n",
    "additional_kwargs={'tool_calls': [{'id': 'call_vOY3viMhJlfm8W15tPPgfA8a', \n",
    "'function': {'arguments': '{\"query\":\"내일 날씨\"}', 'name': 'google_serper_results_json'}, \n",
    "'type': 'function'}], 'refusal': None}, \n",
    "response_metadata={'token_usage': {'completion_tokens': 20, 'prompt_tokens': 82, 'total_tokens': 102, \n",
    "'completion_tokens_details': {'audio_tokens': None, 'reasoning_tokens': 0}, \n",
    "'prompt_tokens_details': {'audio_tokens': None, 'cached_tokens': 0}}, 'model_name': \n",
    "'gpt-4o-mini-2024-07-18', \n",
    "'system_fingerprint': 'fp_e2bde53e6e', \n",
    "'finish_reason': 'tool_calls', \n",
    "'logprobs': None}, \n",
    "id='run-816efb48-a751-4d0f-b946-5fee1d64df40-0', \n",
    "tool_calls=[{'name': 'google_serper_results_json',\n",
    "'args': {'query': '내일 날씨'}, \n",
    "'id': 'call_vOY3viMhJlfm8W15tPPgfA8a', \n",
    "'type': 'tool_call'}], \n",
    "usage_metadata={'input_tokens': 82, 'output_tokens': 20, 'total_tokens': 102, \n",
    "'input_token_details': {'cache_read': 0}, \n",
    "'output_token_details': {'reasoning': 0}})\"\"\"\n"
   ]
  },
  {
   "cell_type": "markdown",
   "metadata": {},
   "source": [
    "### Tool 노드 추가하기"
   ]
  },
  {
   "cell_type": "code",
   "execution_count": 5,
   "metadata": {},
   "outputs": [
    {
     "data": {
      "text/plain": [
       "<langgraph.graph.state.StateGraph at 0x7f0b8032beb0>"
      ]
     },
     "execution_count": 5,
     "metadata": {},
     "output_type": "execute_result"
    }
   ],
   "source": [
    "import json\n",
    "import ast\n",
    "from langchain_core.messages import ToolMessage\n",
    "from langchain_core.callbacks.manager import CallbackManagerForToolRun\n",
    "\n",
    "class BasicToolNode:\n",
    "    \"\"\"\n",
    "    이 노드는 가장 최근의 AI 메시지에서 요청된 도구들을 실행합니다. \n",
    "    AI가 특정 도구의 사용을 요청했을 때, 이 노드가 해당 도구들을 실행하는 역할을 담당합니다.\n",
    "    \"\"\"\n",
    "\n",
    "    def __init__(self, tools: list) -> None:\n",
    "        self.tools_by_name = {tool.name: tool for tool in tools}  # tool 이름을 키로 하여 tool 객체를 저장\n",
    "\n",
    "    def serialize_args(self, args):\n",
    "        \"\"\"\n",
    "        JSON 직렬화가 불가능한 객체를 직렬화 가능하도록 변환합니다.\n",
    "        \"\"\"\n",
    "        if isinstance(args, CallbackManagerForToolRun):\n",
    "            # 필요한 경우 문자열로 변환하거나 객체의 특정 속성을 선택적으로 변환\n",
    "            return str(args)  # 간단하게 문자열로 변환 (필요에 따라 다르게 구현 가능)\n",
    "        elif isinstance(args, dict):\n",
    "            # 재귀적으로 딕셔너리를 순회하며 각 요소를 직렬화\n",
    "            return {key: self.serialize_args(value) for key, value in args.items()}\n",
    "        elif isinstance(args, list):\n",
    "            # 리스트 내의 모든 요소를 직렬화\n",
    "            return [self.serialize_args(item) for item in args]\n",
    "        else:\n",
    "            return args\n",
    "\n",
    "    def __call__(self, inputs: dict):\n",
    "        if messages := inputs.get(\"messages\", []):\n",
    "            message = messages[-1]\n",
    "        else:\n",
    "            raise ValueError(\"No message found in input\")\n",
    "\n",
    "        outputs = []\n",
    "        for tool_call in message.tool_calls:\n",
    "            # JSON 직렬화 가능하도록 변환\n",
    "            serialized_args = self.serialize_args(tool_call[\"args\"])\n",
    "            tool_result = self.tools_by_name[tool_call[\"name\"]].invoke(serialized_args)\n",
    "            outputs.append(\n",
    "                ToolMessage(\n",
    "                    content=json.dumps(tool_result),\n",
    "                    name=tool_call[\"name\"],\n",
    "                    tool_call_id=tool_call[\"id\"],\n",
    "                )\n",
    "            )\n",
    "        return {\"messages\": outputs}\n",
    "\n",
    "\n",
    "# tool_node 생성 및 graph_builder에 추가\n",
    "tool_node = BasicToolNode(tools=[tool])\n",
    "graph_builder.add_node(\"tools\", tool_node)\n"
   ]
  },
  {
   "cell_type": "markdown",
   "metadata": {},
   "source": [
    "### 라우팅 함수 추가하기"
   ]
  },
  {
   "cell_type": "code",
   "execution_count": 6,
   "metadata": {},
   "outputs": [],
   "source": [
    "def route_tools(\n",
    "    state: State,\n",
    "):\n",
    "    \"\"\"\n",
    "    conditional_edge에서 사용되며, 마지막 메시지에 TOOL 호출이 있으면 ToolNode로 라우팅합니다.\n",
    "    그렇지 않으면 END로 라우팅합니다.\n",
    "    \"\"\"\n",
    "    if isinstance(state, list):\n",
    "        ai_message = state[-1]\n",
    "    elif messages := state.get(\"messages\", []):\n",
    "        ai_message = messages[-1]\n",
    "    else:\n",
    "        raise ValueError(f\"tool_edge의 입력 상태에서 메시지를 찾을 수 없습니다: {state}\")\n",
    "    if hasattr(ai_message, \"tool_calls\") and len(ai_message.tool_calls) > 0:\n",
    "        return \"tools\"\n",
    "    return END\n",
    "\n",
    "\n",
    "# `tools_condition` 함수는 챗봇노드가 도구 사용을 요청하면 \"tools\"를 반환하고,\n",
    "# 직접 응답해도 괜찮으면 \"END\"를 반환함\n",
    "graph_builder.add_conditional_edges(\n",
    "    \"chatbot\",\n",
    "    route_tools,\n",
    "    # 다음 딕셔너리를 통해 그래프에게 조건의 출력을 특정 노드로 해석하도록 지시함\n",
    "    # \"tools\" 외에 다른 이름의 노드를 사용하고 싶다면\n",
    "    # 딕셔너리의 값을 다른 것으로 업데이트할 수 있음\n",
    "    # 예: \"tools\": \"my_tools\"\n",
    "    {\"tools\": \"tools\", END: END},\n",
    ")\n",
    "# 도구가 호출될 때마다 다음 단계를 결정하기 위해 챗봇으로 돌아감\n",
    "graph_builder.add_edge(\"tools\", \"chatbot\")\n",
    "graph_builder.add_edge(START, \"chatbot\")\n",
    "#graph_builder.add_edge(\"chatbot\", END) # END를 추가할 필요 없음. route_tools에서 이미 처리하고 있음.\n",
    "graph = graph_builder.compile()"
   ]
  },
  {
   "cell_type": "code",
   "execution_count": 7,
   "metadata": {},
   "outputs": [
    {
     "data": {
      "image/jpeg": "[encoded data removed]",
      "text/plain": [
       "<IPython.core.display.Image object>"
      ]
     },
     "metadata": {},
     "output_type": "display_data"
    }
   ],
   "source": [
    "from IPython.display import Image, display\n",
    "\n",
    "try:\n",
    "    display(Image(graph.get_graph().draw_mermaid_png()))\n",
    "except Exception:\n",
    "    # This requires some extra dependencies and is optional\n",
    "    pass"
   ]
  },
  {
   "cell_type": "code",
   "execution_count": 8,
   "metadata": {},
   "outputs": [
    {
     "name": "stdout",
     "output_type": "stream",
     "text": [
      "Assistant: Hello! How can I assist you today?\n",
      "Assistant: 안녕하세요! 어떻게 도와드릴까요?\n",
      "Assistant: 저는 AI 언어 모델로, 특정한 이름은 없습니다. 하지만 여러분이 원하는 이름으로 불러주셔도 좋습니다! 어떻게 도와드릴까요?\n",
      "Assistant: 저는 AI 언어 모델이라 이름이 없어요. 하지만 여러분이 저를 어떻게 부르든지 괜찮습니다! 도움이 필요하시면 말씀해 주세요.\n",
      "Assistant: \n",
      "Assistant: \"{'searchParameters': {'q': '\\uc11c\\uc6b8 \\ub0a0\\uc528 \\uc608\\ubcf4 2023\\ub144 10\\uc6d4 14\\uc77c', 'gl': 'us', 'hl': 'en', 'type': 'search', 'num': 10, 'engine': 'google'}, 'organic': [{'title': '\\uc624\\ub298\\uc758 \\ub0a0\\uc528 - \\uc624\\uc804 (2023\\ub144 10\\uc6d4 14\\uc77c) - \\uad6d\\ubbfc\\uc77c\\ubcf4', 'link': 'https://www.kmib.co.kr/article/view.asp?arcid=0018762535', 'snippet': '10\\uc6d4 14\\uc77c \\ud1a0\\uc694\\uc77c, \\uc544\\uce68 \\ub0a0\\uc528\\uc785\\ub2c8\\ub2e4.\\uc544\\uce68 \\ucd5c\\uc800\\uae30\\uc628\\uc740 \\uc11c\\uc6b8 14.0\\ub3c4, \\uc778\\ucc9c 13.0\\ub3c4, \\uc218\\uc6d0 12.0\\ub3c4, \\ucd98\\ucc9c 11.0\\ub3c4, \\uac15\\ub989 13.0\\ub3c4, \\uccad\\uc8fc 12.0\\ub3c4, \\ub300\\uc804 11.0\\ub3c4, ...', 'date': 'Oct 14, 2023', 'position': 1}, {'title': '10\\uc6d4 2024 - \\uc11c\\uc6b8\\ud2b9\\ubcc4\\uc2dc, \\uc11c\\uc6b8\\uc2dc, \\ub300\\ud55c\\ubbfc\\uad6d \\uc6d4\\ubcc4 \\ub0a0\\uc528 | AccuWeather', 'link': 'https://www.accuweather.com/ko/kr/seoul/226081/october-weather/226081', 'snippet': '\\uc77c\\ubcc4 ; 29 \\u00b7 66\\u00b0 ; 30 \\u00b7 65\\u00b0 ; 1 \\u00b7 55\\u00b0 ; 2 \\u00b7 52\\u00b0 ; 3 \\u00b7 51\\u00b0.', 'position': 2}, {'title': '\\uacfc\\uac70\\uad00\\uce21 - \\uc77c\\ubcc4\\uc790\\ub8cc - \\uae30\\uc0c1\\uccad \\ub0a0\\uc528\\ub204\\ub9ac', 'link': 'https://www.weather.go.kr/weather/climate/past_cal.jsp', 'snippet': '\\ud3c9\\uade0\\uae30\\uc628:18.3\\u2103 \\ucd5c\\uace0\\uae30\\uc628:22.6\\u2103 \\ucd5c\\uc800\\uae30\\uc628:12.6\\u2103 \\ud3c9\\uade0\\uc6b4\\ub7c9:6.4 \\uc77c\\uac15\\uc218\\ub7c9: -, \\ud3c9\\uade0\\uae30\\uc628:19.3\\u2103 \\ucd5c\\uace0\\uae30\\uc628:21.5\\u2103 \\ucd5c\\uc800\\uae30\\uc628:17.6\\u2103 \\ud3c9\\uade0\\uc6b4\\ub7c9:9.4 \\uc77c\\uac15\\uc218\\ub7c9:0.0mm, \\ud3c9\\uade0\\uae30\\uc628:19.2\\u2103', 'position': 3}, {'title': '\\uc624\\ub298\\uc758 \\ub0a0\\uc528 - \\uc624\\ud6c4 (2023\\ub144 10\\uc6d4 14\\uc77c) - \\uad6d\\ubbfc\\uc77c\\ubcf4', 'link': 'https://www.kmib.co.kr/article/view.asp?arcid=0018763422', 'snippet': '\\ub0b4\\uc77c \\uc544\\uce68\\uae30\\uc628\\uc740 \\uc11c\\uc6b8 12.0\\ub3c4, \\uc778\\ucc9c 11.0\\ub3c4, \\uc218\\uc6d0 11.0\\ub3c4, \\ucd98\\ucc9c 10.0\\ub3c4, \\uac15\\ub989 12.0\\ub3c4, \\uccad\\uc8fc 11.0\\ub3c4, \\ub300\\uc804 11.0\\ub3c4, \\uc804\\uc8fc 12.0\\ub3c4, \\uad11\\uc8fc 12.0\\ub3c4, \\ub300\\uad6c 12.0\\ub3c4 ...', 'date': 'Oct 14, 2023', 'position': 4}, {'title': '[\\uc624\\ub298\\ub0a0\\uc528] \\uac00\\uc744\\ube44\\uac00 \\uc694\\ub780\\ud558\\uac8c \\ub0b4\\ub824\\uc694, \\ube44 \\uadf8\\uccd0\\ub3c4 \\ub2e4\\uc2dc \\uc62c \\uc218 ... - YouTube', 'link': 'https://www.youtube.com/watch?v=c37WWrFGLSg', 'snippet': '2023\\ub144 10\\uc6d4 14\\uc77c 5\\uc2dc \\uc608\\ubcf4\\ub97c \\ud574\\uc124\\ud55c \\uc624\\ub298\\ub0a0\\uc528\\uc785\\ub2c8\\ub2e4. \\uc624\\ub298\\ub0a0\\uc528\\ub294 \\ub9e4\\uc77c 07\\uc2dc\\uc5d0 \\uc5c5\\ub85c\\ub4dc\\ub429\\ub2c8\\ub2e4. \\uc9c0\\uc5ed\\ubcc4 \\ub354 \\uc790\\uc138 ...', 'date': 'Oct 13, 2023', 'attributes': {'Duration': '6:20', 'Posted': 'Oct 13, 2023'}, 'position': 5}, {'title': '\\uacfc\\uac70\\uad00\\uce21 - \\uc77c\\ubcc4\\uc790\\ub8cc - \\uae30\\uc0c1\\uccad \\ub0a0\\uc528\\ub204\\ub9ac', 'link': 'https://www.weather.go.kr/w/observation/land/past-obs/obs-by-day.do?stn=159&yy=2023&mm=10&obs=1', 'snippet': '\\uc77c\\ubcc4\\uc790\\ub8cc ; 8\\uc77c, 9\\uc77c, 10\\uc77c ; \\ud3c9\\uade0\\uae30\\uc628:18.7\\u2103 \\ucd5c\\uace0\\uae30\\uc628:20.7\\u2103 \\ucd5c\\uc800\\uae30\\uc628:17.4\\u2103 \\ud3c9\\uade0\\uc6b4\\ub7c9:8.5 \\uc77c\\uac15\\uc218\\ub7c9:0.3mm, \\ud3c9\\uade0\\uae30\\uc628:19.6\\u2103 \\ucd5c\\uace0\\uae30\\uc628:24.1\\u2103 \\ucd5c\\uc800\\uae30\\uc628:17.4\\u2103 \\ud3c9\\uade0\\uc6b4\\ub7c9:9.0 \\uc77c ...', 'position': 6}, {'title': '[PDF] 2023\\ub144 10\\uc6d4\\ud638 - \\uae30\\uc0c1\\uccad \\ub0a0\\uc528\\ub204\\ub9ac', 'link': 'https://www.kma.go.kr/download_02/ellinonewsletter_2023_10.pdf', 'snippet': '10\\uc6d4 \\ud3c9\\ub144\\ubcf4\\ub2e4 \\uac15\\ub3c4\\uac00 \\uc57d\\ud55c \\ubd81\\uc11c\\ucabd\\uc758 \\ub300\\ub959\\uace0\\uae30\\uc555\\uacfc \\ub530\\ub73b\\ud55c \\uc774\\ub3d9\\uc131\\uace0\\uae30\\uc555\\uc758 \\uc601\\ud5a5\\uc744 \\ubc88\\uac08\\uc544 \\ubc1b\\uc544 \\ud3c9\\uade0\\uae30\\uc628\\uc774 \\ud3c9\\ub144\\uacfc \\ube44. \\uc2b7\\ud558\\uc600\\uc2b5\\ub2c8\\ub2e4. 21\\uc77c \\uc0c1\\uce35 \\ucc2c\\uacf5\\uae30\\ub97c ...', 'date': 'Oct 31, 2023', 'position': 7}, {'title': '\\uc1a1\\ud30c\\uad6c, \\uc11c\\uc6b8\\uc2dc, \\ub300\\ud55c\\ubbfc\\uad6d \\uc6d4\\ubcc4 \\ub0a0\\uc528 - AccuWeather', 'link': 'https://www.accuweather.com/ko/kr/songpa-gu/2330444/august-weather/2330444', 'snippet': '\\uc628\\ub3c4 \\uadf8\\ub798\\ud504 ; \\ud3c9\\uade0 \\ucd5c\\uace0. \\ud3c9\\uade0 \\ucd5c\\uc800 ; \\uace0\\uc628(\\ud604\\uc7ac). \\uc800\\uc628(\\ud604\\uc7ac) ; \\uace0\\uc628(\\uc608\\uc0c1). \\uc800\\uc628(\\uc608\\uc0c1) ...', 'position': 8}, {'title': '\\uae30\\uc0c1\\uc815\\ubcf4 \\ub0a0\\uc528\\uc815\\ubcf4 - \\uc11c\\uc6b8\\uc885\\ud569\\ubc29\\uc7ac\\uc13c\\ud130', 'link': 'https://119.seoul.go.kr/asims/wether/selectWetherList.do', 'snippet': '\\ub9d1\\uc74c. 23.7\\u00b0c; \\uc2b5\\ub3c4 52.4%; \\uac15\\uc218\\ub7c9 1\\uc2dc\\uac04 0mm; \\uac15\\uc218\\ub7c9 1\\uc77c 0mm; \\ub9d1\\uc74c \\u00b7 14\\u00b0C \\u00b7 26\\u00b0C ; \\ub9d1\\uc74c. 23.7\\u00b0c; \\uc2b5\\ub3c4 52.4%; \\uac15\\uc218\\ub7c9 1\\uc2dc\\uac04 0mm; \\uac15\\uc218\\ub7c9 1\\uc77c 0mm; \\ub9d1\\uc74c \\u00b7 \\uac15\\uc218\\ud655\\ub960 0% ...', 'attributes': {'Missing': '2023 | Show results with:2023'}, 'position': 9}, {'title': '\\uc2e0\\ucd0c\\ub3d9 \\uc6d4\\uac04 \\uc77c\\uae30\\uc608\\ubcf4 - weather.com', 'link': 'https://weather.com/ko-KR/weather/monthly/l/Sinchon+dong?canonicalCityId=41c20b9e59a1464c5b8d316200c6deb511ff191cf1fadb295f52bf3b6b7b5642', 'snippet': '\\ubcf4\\uace0\\ub41c \\ub0a0\\uc528. \\uc5b4\\uc81c, 21\\u00b0, 13\\u00b0, 0.00 mm. \\uc9c0\\ub09c 7\\uc77c, 25\\u00b0, 9\\u00b0, 1.27. \\uc6d4\\uac04 \\ub204\\uacc4, 25\\u00b0, 7\\u00b0, 3.80. \\uc6d4 \\ud3c9\\uade0 \\uae30\\ub85d. 10\\uc6d4, 19\\u00b0, 11\\u00b0, 0. 11\\uc6d4, 11\\u00b0, 3\\u00b0, 0. 12\\uc6d4, 3\\u00b0, -3\\u00b0, 0 ...', 'position': 10}], 'relatedSearches': [{'query': '2023 \\ud55c\\uad6d 7\\uc6d4 \\ub0a0\\uc528'}, {'query': '2024\\ub144 10\\uc6d4 \\ub0a0\\uc528'}, {'query': '\\uc11c\\uc6b8 6\\uc6d4 \\ub0a0\\uc528'}, {'query': '\\ud55c\\uad6d 10\\uc6d4 \\ub0a0\\uc528 2023'}, {'query': '2023\\ub144 10\\uc6d4 \\ub0a0\\uc528'}, {'query': '10\\uc6d4 \\ub0a0\\uc528 \\ud55c\\uad6d'}, {'query': '\\ud55c\\uad6d 10\\uc6d4 \\ub0a0\\uc528 2024'}, {'query': '\\ud55c\\uad6d 10\\uc6d4 \\ud3c9\\uade0\\uae30\\uc628'}], 'credits': 1}\"\n",
      "Assistant: 내일, 2023년 10월 14일 서울의 날씨는 다음과 같습니다:\n",
      "\n",
      "- 아침 기온: 약 12.0도\n",
      "- 낮 기온: 약 14.0도\n",
      "- 저녁 기온: 약 11.0도\n",
      "- 전반적으로 맑은 날씨가 예상됩니다.\n",
      "\n",
      "자세한 내용은 [여기](https://www.kmib.co.kr/article/view.asp?arcid=0018762535)에서 확인하실 수 있습니다.\n"
     ]
    }
   ],
   "source": [
    "def stream_graph_updates(user_input: str):\n",
    "    for event in graph.stream({\"messages\": [(\"user\", user_input)]}):\n",
    "        for value in event.values():\n",
    "            print(\"Assistant:\", value[\"messages\"][-1].content)\n",
    "\n",
    "while True:\n",
    "    try:\n",
    "        user_input = input(\"User: \")\n",
    "        if user_input.lower() in [\"quit\", \"exit\", \"q\"]:\n",
    "            print(\"Goodbye!\")\n",
    "            break\n",
    "\n",
    "        stream_graph_updates(user_input)\n",
    "    except:\n",
    "        # fallback if input() is not available\n",
    "        user_input = \"What do you know about LangGraph?\"\n",
    "        print(\"User: \" + user_input)\n",
    "        stream_graph_updates(user_input)\n",
    "        break"
   ]
  },
  {
   "cell_type": "code",
   "execution_count": null,
   "metadata": {},
   "outputs": [],
   "source": []
  }
 ],
 "metadata": {
  "kernelspec": {
   "display_name": "langgraph",
   "language": "python",
   "name": "python3"
  },
  "language_info": {
   "codemirror_mode": {
    "name": "ipython",
    "version": 3
   },
   "file_extension": ".py",
   "mimetype": "text/x-python",
   "name": "python",
   "nbconvert_exporter": "python",
   "pygments_lexer": "ipython3",
   "version": "3.10.12"
  }
 },
 "nbformat": 4,
 "nbformat_minor": 2
}
